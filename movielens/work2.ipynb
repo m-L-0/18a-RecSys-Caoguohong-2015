{
 "cells": [
  {
   "cell_type": "markdown",
   "metadata": {
    "collapsed": true
   },
   "source": [
    "# 基於物品的協同過濾算法實現\n",
    "\n",
    "### 二、基於物品的協同過濾算法\n",
    "#### 1) 讀取數據"
   ]
  },
  {
   "cell_type": "code",
   "execution_count": 1,
   "metadata": {},
   "outputs": [],
   "source": [
    "import pandas as pd\n",
    "import numpy as np\n",
    "import math"
   ]
  },
  {
   "cell_type": "code",
   "execution_count": 2,
   "metadata": {},
   "outputs": [],
   "source": [
    "r_cols = ['user_id', 'movie_id', 'rating', 'unix_timestamp']\n",
    "train = pd.read_csv('./movielens/ml-100k/u1.base', sep='\\t', names=r_cols, encoding='latin-1')\n",
    "test = pd.read_csv('./movielens/ml-100k/u1.test', sep='\\t', names=r_cols, encoding='latin-1')\n",
    "\n",
    "train_list = np.zeros([1682, 943])\n",
    "test_list = np.zeros([943, 1682])\n",
    "\n",
    "for i in range(len(train.values)):\n",
    "    train_list[train.values[i][1] - 1][train.values[i][0] - 1] = train.values[i][2]\n",
    "\n",
    "for i in range(len(test.values)):\n",
    "    test_list[test.values[i][0] - 1][test.values[i][1] - 1] = test.values[i][2]\n",
    "\n"
   ]
  },
  {
   "cell_type": "code",
   "execution_count": 23,
   "metadata": {},
   "outputs": [],
   "source": [
    "def item_similarity(data):\n",
    "    \"\"\" 基於物品余憲相似性\n",
    "\n",
    "    Args:\n",
    "        data: 表數據\n",
    "\n",
    "    Return: x 和 y 之間的余憲相似的度\n",
    "    \"\"\"\n",
    "    a, b, c = 0, 0, 0\n",
    "    result = np.zeros([len(data), len(data)])\n",
    "    for x in range(len(data)):\n",
    "        for y in range(x + 1, len(data)):\n",
    "            a, b, c = len(set(data[x])) - 1, len(set(data[y])) - 1, \\\n",
    "                      len(data[x] + data[y]) - len(list(set(data[x])) + list(set(data[y])))\n",
    "            try:\n",
    "                result[x][y] = c / math.sqrt(a * b)\n",
    "            except ZeroDivisionError:\n",
    "                result[x][y] = 0\n",
    "\n",
    "    return result\n"
   ]
  },
  {
   "cell_type": "code",
   "execution_count": 24,
   "metadata": {
    "collapsed": false
   },
   "outputs": [],
   "source": [
    "sim_data=item_similarity(train_list)"
   ]
  },
  {
   "cell_type": "code",
   "execution_count": 27,
   "metadata": {},
   "outputs": [],
   "source": [
    "def user_based_recommend(data, sim_data, user_num, topK):\n",
    "    \"\"\" 基於物品的topK 舉薦\n",
    "    \n",
    "    Args:\n",
    "        data: 數據表\n",
    "        sim_data: 相似性表\n",
    "        user_num: 用戶編號\n",
    "        topK: 商品組 topK\n",
    "\n",
    "    Returns:\n",
    "        舉薦列表\n",
    "    \"\"\"\n",
    "    sim_data=np.array(sim_data)\n",
    "    result = {}\n",
    "    temp = {}\n",
    "    for i in range(len(data[user_num - 1])):\n",
    "        if data[user_num - 1][i] != 0:\n",
    "            result[np.argmax(sim_data[i])] = 1\n",
    "\n",
    "    return result"
   ]
  },
  {
   "cell_type": "code",
   "execution_count": 28,
   "metadata": {},
   "outputs": [
    {
     "data": {
      "text/plain": [
       "{32: 1, 224: 1, 309: 1}"
      ]
     },
     "execution_count": 28,
     "metadata": {},
     "output_type": "execute_result"
    }
   ],
   "source": [
    "\n",
    "train_list = np.zeros([943, 1682])\n",
    "\n",
    "for i in range(len(train.values)):\n",
    "    train_list[train.values[i][0] - 1][train.values[i][1] - 1] = train.values[i][2]\n",
    "user_based_recommend(train_list,sim_data,1,1)"
   ]
  },
  {
   "cell_type": "markdown",
   "metadata": {},
   "source": []
  }
 ],
 "metadata": {
  "kernelspec": {
   "display_name": "Python 2",
   "language": "python",
   "name": "python2"
  },
  "language_info": {
   "codemirror_mode": {
    "name": "ipython",
    "version": 2
   },
   "file_extension": ".py",
   "mimetype": "text/x-python",
   "name": "python",
   "nbconvert_exporter": "python",
   "pygments_lexer": "ipython2",
   "version": "2.7.6"
  }
 },
 "nbformat": 4,
 "nbformat_minor": 0
}
