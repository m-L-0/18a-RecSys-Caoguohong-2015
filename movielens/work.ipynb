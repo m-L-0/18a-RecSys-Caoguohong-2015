{
 "cells": [
  {
   "cell_type": "markdown",
   "metadata": {
    "collapsed": true
   },
   "source": [
    "# 關於 Movielens 協同舉薦作業\n",
    "\n",
    "### 檔案說明\n",
    "> 第一部分使用用戶協同推薦算法完成\n",
    "\n",
    "### 一、基於用戶的協同過濾算法\n",
    "\n",
    "#### 1) 讀取數據"
   ]
  },
  {
   "cell_type": "code",
   "execution_count": 1,
   "metadata": {},
   "outputs": [],
   "source": [
    "import pandas as pd\n",
    "import numpy as np\n",
    "import math"
   ]
  },
  {
   "cell_type": "code",
   "execution_count": 14,
   "metadata": {
    "collapsed": true
   },
   "outputs": [],
   "source": [
    "u_cols = ['user_id', 'age', 'sex', 'occupation', 'zip_code']\n",
    "users = pd.read_csv('./movielens/ml-100k/u.user', sep='|', names=u_cols,encoding='latin-1')\n",
    "\n",
    "r_cols = ['user_id', 'movie_id', 'rating', 'unix_timestamp']\n",
    "ratings = pd.read_csv('./movielens/ml-100k/u.data', sep='\\t', names=r_cols,encoding='latin-1')\n",
    "\n",
    "m_cols = ['movie_id', 'title', 'release_date', 'video_release_date', 'imdb_url'] \n",
    "movies = pd.read_csv('./movielens/ml-100k/u.item', sep='|', names=m_cols, usecols=range(5),encoding='latin-1') \n",
    "\n",
    "movie_ratings = pd.merge(movies, ratings) \n",
    "lens = pd.merge(movie_ratings, users)\n",
    "\n",
    "# print(lens)\n"
   ]
  },
  {
   "cell_type": "markdown",
   "metadata": {},
   "source": [
    "#### 2) 整理數據格式"
   ]
  },
  {
   "cell_type": "code",
   "execution_count": 2,
   "metadata": {
    "collapsed": false
   },
   "outputs": [],
   "source": [
    "# 943 名用户   1682 部电影\n",
    "\n",
    "\n",
    "user_list = np.zeros([943, 1682])\n",
    "\n",
    "for i in range(len(ratings.values)):\n",
    "    user_list[ratings.values[i][0]-1][ratings.values[i][1]-1] = ratings.values[i][2]\n",
    "\n"
   ]
  },
  {
   "cell_type": "markdown",
   "metadata": {},
   "source": [
    "#### 3) 核心推薦算法實現"
   ]
  },
  {
   "cell_type": "code",
   "execution_count": 2,
   "metadata": {},
   "outputs": [],
   "source": [
    "def user_based_recommend(data, user_num, userK, topK):\n",
    "    \"\"\" 基於用戶user的topK 舉薦\n",
    "    \n",
    "    Args:\n",
    "        data: 數據表\n",
    "        user: 用戶編號\n",
    "        userK: 用戶組 topK\n",
    "        topK: 商品組 topK\n",
    "\n",
    "    Returns:\n",
    "        舉薦列表\n",
    "    \"\"\"\n",
    "    user_num -= 1\n",
    "    user = data[user_num]\n",
    "    sim_list = []\n",
    "    # del data[user_num]  # 從用戶數據表中刪除用戶本身\n",
    "    for i in range(len(data)):\n",
    "        sim_list.append([cos_sim(user, data[i]), i])\n",
    "    sim_list.sort()\n",
    "    sim_list = sim_list[-userK - 1:]\n",
    "\n",
    "    result = {}\n",
    "    for i in range(len(sim_list)):\n",
    "        for a in range(len(data[0])):\n",
    "            if data[sim_list[i][1]][a] != 0 and user[a] == 0:\n",
    "                if a in result:\n",
    "                    result[a] += data[sim_list[i][1]][a]\n",
    "                else:\n",
    "                    result[a] = data[sim_list[i][1]][a]\n",
    "\n",
    "    result = sorted(result.items(), key=lambda x: x[1], reverse=True)\n",
    "    \n",
    "    # print(result[:topK])\n",
    "    return result[:topK]\n",
    "\n",
    "\n",
    "def cos_sim(x_, y_):\n",
    "    \"\"\" 余憲相似性\n",
    "\n",
    "    Args:\n",
    "    - x: mat, 以行向量形式存儲\n",
    "    - y: mat, 以行向量形式存儲\n",
    "\n",
    "    Return: x 和 y 之間的余憲相似的度\n",
    "    \"\"\"\n",
    "    x, y = [], []\n",
    "    for i in range(len(x_)):\n",
    "        if x_[i] != 0 and y_[i] != 0:\n",
    "            x.append(x_[i])\n",
    "            y.append(y_[i])\n",
    "\n",
    "    x, y = np.array(x), np.array(y)\n",
    "    numerator = np.sum(x.T * y)  \n",
    "    denominator = np.sqrt(np.sum(x.T * x)) * np.sqrt(np.sum(y.T * y))\n",
    "    return numerator / denominator\n"
   ]
  },
  {
   "cell_type": "code",
   "execution_count": 72,
   "metadata": {
    "collapsed": false
   },
   "outputs": [
    {
     "data": {
      "text/plain": [
       "[(287, 12.0), (301, 8.0), (306, 8.0)]"
      ]
     },
     "execution_count": 72,
     "metadata": {},
     "output_type": "execute_result"
    }
   ],
   "source": [
    "user_based_recommend(user_list, 1, 3, 3)"
   ]
  },
  {
   "cell_type": "markdown",
   "metadata": {},
   "source": [
    "#### 說明: 從數據中可以查到，一號用戶未看過的三部電影，算法通過TopK排名為其推薦，下列將其電影的詳細打印出來"
   ]
  },
  {
   "cell_type": "code",
   "execution_count": 73,
   "metadata": {},
   "outputs": [
    {
     "name": "stdout",
     "output_type": "stream",
     "text": [
      "[288 'Scream (1996)' '20-Dec-1996' nan\n 'http://us.imdb.com/M/title-exact?Scream%20(1996)']\n[302 'L.A. Confidential (1997)' '01-Jan-1997' nan\n 'http://us.imdb.com/M/title-exact?L%2EA%2E+Confidential+(1997)']\n[307 \"Devil's Advocate, The (1997)\" '01-Jan-1997' nan\n \"http://us.imdb.com/M/title-exact?Devil's+Advocate,+The+(1997)\"]\n"
     ]
    }
   ],
   "source": [
    "li = user_based_recommend(user_list, 1, 3, 3)\n",
    "# print(movies.values)\n",
    "for i in li:\n",
    "    print(movies.values[i[0]])\n"
   ]
  },
  {
   "cell_type": "markdown",
   "metadata": {},
   "source": [
    "#### 4) 使用驗證集和測試集進行實驗"
   ]
  },
  {
   "cell_type": "code",
   "execution_count": 3,
   "metadata": {},
   "outputs": [
    {
     "name": "stderr",
     "output_type": "stream",
     "text": [
      "/Users/tudoudou/Documents/python/classdemo/18a-RecSys-Caoguohong-2015/env/lib/python3.5/site-packages/ipykernel_launcher.py:55: RuntimeWarning: invalid value encountered in double_scalars\n"
     ]
    },
    {
     "data": {
      "text/plain": [
       "[(312, 45.0), (257, 34.0), (299, 30.0), (327, 26.0), (322, 20.0)]"
      ]
     },
     "execution_count": 3,
     "metadata": {},
     "output_type": "execute_result"
    }
   ],
   "source": [
    "r_cols = ['user_id', 'movie_id', 'rating', 'unix_timestamp']\n",
    "train = pd.read_csv('./movielens/ml-100k/u1.base', sep='\\t', names=r_cols, encoding='latin-1')\n",
    "test = pd.read_csv('./movielens/ml-100k/u1.test', sep='\\t', names=r_cols, encoding='latin-1')\n",
    "\n",
    "train_list = np.zeros([943, 1682])\n",
    "test_list = np.zeros([943, 1682])\n",
    "\n",
    "for i in range(len(train.values)):\n",
    "    train_list[train.values[i][0] - 1][train.values[i][1] - 1] = train.values[i][2]\n",
    "\n",
    "for i in range(len(test.values)):\n",
    "    test_list[test.values[i][0] - 1][test.values[i][1] - 1] = test.values[i][2]\n",
    "\n",
    "user_based_recommend(train_list, 1, 10, 5)"
   ]
  },
  {
   "cell_type": "code",
   "execution_count": 11,
   "metadata": {},
   "outputs": [
    {
     "name": "stderr",
     "output_type": "stream",
     "text": [
      "/Users/tudoudou/Documents/python/classdemo/18a-RecSys-Caoguohong-2015/env/lib/python3.5/site-packages/ipykernel_launcher.py:55: RuntimeWarning: invalid value encountered in double_scalars\n"
     ]
    },
    {
     "name": "stdout",
     "output_type": "stream",
     "text": [
      "[(171, 26.0), (184, 26.0), (426, 26.0), (196, 25.0), (173, 24.0), (482, 22.0), (49, 20.0), (97, 19.0), (602, 19.0), (478, 19.0)]\n2\n"
     ]
    }
   ],
   "source": [
    "tj = user_based_recommend(train_list, 2, 10, 10)\n",
    "tr=0\n",
    "for i in tj:\n",
    "    if test_list[5-1][i[0]]>0:\n",
    "        tr+=1\n",
    "        \n",
    "print(tr)"
   ]
  },
  {
   "cell_type": "code",
   "execution_count": null,
   "metadata": {},
   "outputs": [],
   "source": []
  }
 ],
 "metadata": {
  "kernelspec": {
   "display_name": "Python 2",
   "language": "python",
   "name": "python2"
  },
  "language_info": {
   "codemirror_mode": {
    "name": "ipython",
    "version": 2
   },
   "file_extension": ".py",
   "mimetype": "text/x-python",
   "name": "python",
   "nbconvert_exporter": "python",
   "pygments_lexer": "ipython2",
   "version": "2.7.6"
  }
 },
 "nbformat": 4,
 "nbformat_minor": 0
}
